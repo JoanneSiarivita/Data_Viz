{
 "cells": [
  {
   "cell_type": "code",
   "execution_count": 1,
   "id": "74387de0-7ac1-47a7-a2a6-9fee14a5e460",
   "metadata": {
    "tags": []
   },
   "outputs": [],
   "source": [
    "#Launch commands to automatically reload modules\n",
    "%load_ext autoreload\n",
    "%autoreload 2"
   ]
  },
  {
   "cell_type": "code",
   "execution_count": 2,
   "id": "306a4939-dd1f-47d4-be1d-310c55bbbb82",
   "metadata": {
    "tags": []
   },
   "outputs": [],
   "source": [
    "#Load libraries to use\n",
    "import numpy as np\n",
    "import pandas as pd\n",
    "import matplotlib.pyplot as plt\n",
    "import seaborn as sns"
   ]
  },
  {
   "cell_type": "code",
   "execution_count": 3,
   "id": "08734de3-9822-4a01-ade7-7607ac414fc1",
   "metadata": {
    "tags": []
   },
   "outputs": [],
   "source": [
    "#Load dataset into a dataframe\n",
    "data = pd.read_csv('../data/raw/COVID.csv')"
   ]
  },
  {
   "cell_type": "code",
   "execution_count": 4,
   "id": "91ec7656-3ef5-47a0-b34d-90d8a47da1f1",
   "metadata": {
    "tags": []
   },
   "outputs": [
    {
     "data": {
      "text/plain": [
       "(239, 14)"
      ]
     },
     "execution_count": 4,
     "metadata": {},
     "output_type": "execute_result"
    }
   ],
   "source": [
    "#Display dimensions of the dataframe(df)\n",
    "data.shape"
   ]
  },
  {
   "cell_type": "code",
   "execution_count": 5,
   "id": "ecea2a1c-0dce-4d25-9653-485616a18ec8",
   "metadata": {
    "tags": []
   },
   "outputs": [
    {
     "name": "stdout",
     "output_type": "stream",
     "text": [
      "<class 'pandas.core.frame.DataFrame'>\n",
      "RangeIndex: 239 entries, 0 to 238\n",
      "Data columns (total 14 columns):\n",
      " #   Column             Non-Null Count  Dtype  \n",
      "---  ------             --------------  -----  \n",
      " 0   Country            239 non-null    object \n",
      " 1   Total Cases        239 non-null    object \n",
      " 2   New Cases          12 non-null     object \n",
      " 3   Total Deaths       234 non-null    object \n",
      " 4   New Deaths         7 non-null      float64\n",
      " 5   Total Recovered    190 non-null    object \n",
      " 6   New Recovered      17 non-null     object \n",
      " 7   Active Cases       191 non-null    object \n",
      " 8   Serious, Critical  60 non-null     object \n",
      " 9   Tot Cases/1M pop   230 non-null    object \n",
      " 10  Deaths/1M pop      225 non-null    object \n",
      " 11  Total Tests        213 non-null    object \n",
      " 12  Tests/1M pop       213 non-null    object \n",
      " 13  Population         229 non-null    object \n",
      "dtypes: float64(1), object(13)\n",
      "memory usage: 26.3+ KB\n"
     ]
    }
   ],
   "source": [
    "#Display summary information of dataframe\n",
    "data.info()"
   ]
  },
  {
   "cell_type": "code",
   "execution_count": null,
   "id": "e501496e-223d-4f9e-b596-c22e158761f7",
   "metadata": {},
   "outputs": [],
   "source": []
  }
 ],
 "metadata": {
  "kernelspec": {
   "display_name": "Python 3 (ipykernel)",
   "language": "python",
   "name": "python3"
  },
  "language_info": {
   "codemirror_mode": {
    "name": "ipython",
    "version": 3
   },
   "file_extension": ".py",
   "mimetype": "text/x-python",
   "name": "python",
   "nbconvert_exporter": "python",
   "pygments_lexer": "ipython3",
   "version": "3.9.13"
  }
 },
 "nbformat": 4,
 "nbformat_minor": 5
}
